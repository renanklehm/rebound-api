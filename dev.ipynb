{
 "cells": [
  {
   "cell_type": "code",
   "execution_count": 1,
   "metadata": {},
   "outputs": [],
   "source": [
    "from src.main import Simulation\n",
    "import numpy as np"
   ]
  },
  {
   "cell_type": "code",
   "execution_count": 2,
   "metadata": {},
   "outputs": [],
   "source": [
    "sim = Simulation(\"Teste\")\n",
    "sim.add_primary(m=1.7857e29, hash=\"TRAPPIST-1\")\n",
    "sim.add_from_orbital_elements(m=8.2055E+24, P=130535.37, e=0.00622, inc=np.deg2rad(0.272), M=np.random.rand()*2*np.pi, hash=\"Planet-B\")\n",
    "sim.add_from_orbital_elements(m=7.8114E+24, P=209255.36, e=0.00654, inc=np.deg2rad(0.222), M=np.random.rand()*2*np.pi, hash=\"Planet-C\")\n",
    "sim.add_from_orbital_elements(m=2.3171E+24, P=349852.52, e=0.00837, inc=np.deg2rad(0.104), M=np.random.rand()*2*np.pi, hash=\"Planet-D\")\n",
    "sim.add_from_orbital_elements(m=4.1326E+24, P=527127.52, e=0.00510, inc=np.deg2rad(0.207), M=np.random.rand()*2*np.pi, hash=\"Planet-E\")\n",
    "sim.add_from_orbital_elements(m=6.2049E+24, P=795531.46, e=0.01007, inc=np.deg2rad(0.260), M=np.random.rand()*2*np.pi, hash=\"Planet-F\")\n",
    "sim.add_from_orbital_elements(m=7.8890E+24, P=1067251.33, e=0.00208, inc=np.deg2rad(0.258), M=np.random.rand()*2*np.pi, hash=\"Planet-G\")\n",
    "sim.add_from_orbital_elements(m=1.9469E+24, P=1621975.62, e=0.00567, inc=np.deg2rad(0.195), M=np.random.rand()*2*np.pi, hash=\"Planet-H\")\n",
    "sim.save()"
   ]
  },
  {
   "cell_type": "code",
   "execution_count": null,
   "metadata": {},
   "outputs": [],
   "source": [
    "sim.get_trajectory(1e6, 1e3)"
   ]
  }
 ],
 "metadata": {
  "kernelspec": {
   "display_name": "Python 3",
   "language": "python",
   "name": "python3"
  },
  "language_info": {
   "codemirror_mode": {
    "name": "ipython",
    "version": 3
   },
   "file_extension": ".py",
   "mimetype": "text/x-python",
   "name": "python",
   "nbconvert_exporter": "python",
   "pygments_lexer": "ipython3",
   "version": "3.12.4"
  }
 },
 "nbformat": 4,
 "nbformat_minor": 2
}
